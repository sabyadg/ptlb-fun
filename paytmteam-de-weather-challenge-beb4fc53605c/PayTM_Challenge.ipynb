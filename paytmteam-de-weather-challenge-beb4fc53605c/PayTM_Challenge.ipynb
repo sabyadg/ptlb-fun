{
  "nbformat": 4,
  "nbformat_minor": 0,
  "metadata": {
    "colab": {
      "name": "PayTM-Challenge.ipynb",
      "provenance": []
    },
    "kernelspec": {
      "name": "python3",
      "display_name": "Python 3"
    },
    "language_info": {
      "name": "python"
    }
  },
  "cells": [
    {
      "cell_type": "code",
      "metadata": {
        "id": "E1I-ad4JS2Y0"
      },
      "source": [
        "# innstall java\n",
        "!apt-get install openjdk-8-jdk-headless -qq > /dev/null\n",
        "\n",
        "# install spark (change the version number if needed)\n",
        "!wget -q https://archive.apache.org/dist/spark/spark-3.0.0/spark-3.0.0-bin-hadoop3.2.tgz\n",
        "\n",
        "# unzip the spark file to the current folder\n",
        "!tar xf spark-3.0.0-bin-hadoop3.2.tgz\n",
        "\n",
        "# set your spark folder to your system path environment. \n",
        "import os\n",
        "os.environ[\"JAVA_HOME\"] = \"/usr/lib/jvm/java-8-openjdk-amd64\"\n",
        "os.environ[\"SPARK_HOME\"] = \"/content/spark-3.0.0-bin-hadoop3.2\"\n",
        "\n",
        "\n",
        "# install findspark using pip\n",
        "!pip install -q findspark"
      ],
      "execution_count": 1,
      "outputs": []
    },
    {
      "cell_type": "code",
      "metadata": {
        "id": "YiWtKXHETVoh"
      },
      "source": [
        " !pip install -q findspark"
      ],
      "execution_count": 2,
      "outputs": []
    },
    {
      "cell_type": "code",
      "metadata": {
        "id": "QF25cYuBT3v7"
      },
      "source": [
        "import findspark\n",
        "findspark.init()"
      ],
      "execution_count": 3,
      "outputs": []
    },
    {
      "cell_type": "code",
      "metadata": {
        "id": "lVtPNRbaT76P"
      },
      "source": [
        "from pyspark.sql import SparkSession\n",
        "\n",
        "spark = SparkSession.builder\\\n",
        "        .master(\"local\")\\\n",
        "        .appName(\"Colab\")\\\n",
        "        .config('spark.ui.port', '4050')\\\n",
        "        .getOrCreate()"
      ],
      "execution_count": 4,
      "outputs": []
    },
    {
      "cell_type": "code",
      "metadata": {
        "colab": {
          "base_uri": "https://localhost:8080/",
          "height": 216
        },
        "id": "gMkgSdCLT-MH",
        "outputId": "70c3d055-4c22-4e66-a513-aae30716df8b"
      },
      "source": [
        "spark"
      ],
      "execution_count": 5,
      "outputs": [
        {
          "output_type": "execute_result",
          "data": {
            "text/html": [
              "\n",
              "            <div>\n",
              "                <p><b>SparkSession - in-memory</b></p>\n",
              "                \n",
              "        <div>\n",
              "            <p><b>SparkContext</b></p>\n",
              "\n",
              "            <p><a href=\"http://e7362f925f61:4050\">Spark UI</a></p>\n",
              "\n",
              "            <dl>\n",
              "              <dt>Version</dt>\n",
              "                <dd><code>v3.0.0</code></dd>\n",
              "              <dt>Master</dt>\n",
              "                <dd><code>local</code></dd>\n",
              "              <dt>AppName</dt>\n",
              "                <dd><code>Colab</code></dd>\n",
              "            </dl>\n",
              "        </div>\n",
              "        \n",
              "            </div>\n",
              "        "
            ],
            "text/plain": [
              "<pyspark.sql.session.SparkSession at 0x7f77859ad050>"
            ]
          },
          "metadata": {
            "tags": []
          },
          "execution_count": 5
        }
      ]
    },
    {
      "cell_type": "code",
      "metadata": {
        "colab": {
          "base_uri": "https://localhost:8080/"
        },
        "id": "CGxgt_TlT-uq",
        "outputId": "e3bbe024-c4f8-456c-ede0-625509c127fd"
      },
      "source": [
        "!wget https://bin.equinox.io/c/4VmDzA7iaHb/ngrok-stable-linux-amd64.zip\n",
        "!unzip ngrok-stable-linux-amd64.zip\n",
        "get_ipython().system_raw('./ngrok http 4050 &')\n",
        "!curl -s http://localhost:4040/api/tunnels"
      ],
      "execution_count": 6,
      "outputs": [
        {
          "output_type": "stream",
          "text": [
            "--2021-04-15 00:56:14--  https://bin.equinox.io/c/4VmDzA7iaHb/ngrok-stable-linux-amd64.zip\n",
            "Resolving bin.equinox.io (bin.equinox.io)... 3.223.71.232, 3.217.26.81, 3.229.173.44, ...\n",
            "Connecting to bin.equinox.io (bin.equinox.io)|3.223.71.232|:443... connected.\n",
            "HTTP request sent, awaiting response... 200 OK\n",
            "Length: 14746350 (14M) [application/octet-stream]\n",
            "Saving to: ‘ngrok-stable-linux-amd64.zip’\n",
            "\n",
            "ngrok-stable-linux- 100%[===================>]  14.06M  13.6MB/s    in 1.0s    \n",
            "\n",
            "2021-04-15 00:56:15 (13.6 MB/s) - ‘ngrok-stable-linux-amd64.zip’ saved [14746350/14746350]\n",
            "\n",
            "Archive:  ngrok-stable-linux-amd64.zip\n",
            "  inflating: ngrok                   \n",
            "{\"tunnels\":[],\"uri\":\"/api/tunnels\"}\n"
          ],
          "name": "stdout"
        }
      ]
    },
    {
      "cell_type": "markdown",
      "metadata": {
        "id": "C0zPe9rUVSLP"
      },
      "source": [
        "# Solution\n"
      ]
    },
    {
      "cell_type": "code",
      "metadata": {
        "id": "iWOzXG6rU61M"
      },
      "source": [
        "from pyspark.sql import SparkSession\n",
        "from pyspark.sql import functions as F\n",
        "from pyspark.sql import Window\n",
        "# Required for StructField, StringType, IntegerType, etc.\n",
        "from pyspark.sql.types import *"
      ],
      "execution_count": 7,
      "outputs": []
    },
    {
      "cell_type": "code",
      "metadata": {
        "id": "HsDdnRQbWUsN"
      },
      "source": [
        "csvCountrySchema = StructType([\n",
        "      StructField(\"COUNTRY_ABBR\", StringType(), False),\n",
        "      StructField(\"COUNTRY_FULL\", StringType(), False),\n",
        "                                  ])\n",
        "\n",
        "csvStationSchema = StructType([\n",
        "        StructField(\"STN_NO\", IntegerType(), False),\n",
        "        StructField(\"COUNTRY_ABBR\", StringType(), False)\n",
        "                              ])\n",
        "csvWeatherSchema = StructType([           \n",
        "      StructField(\"STN_NO\", IntegerType(), False),        \n",
        "      StructField(\"WBAN\", IntegerType(), False), \n",
        "      StructField(\"YEARMODA\", IntegerType(), False), \n",
        "      StructField(\"TEMP\", FloatType(), False),\n",
        "      StructField(\"DEWP\", FloatType(), False),\n",
        "      StructField(\"SLP\", FloatType(), False), \n",
        "      StructField(\"STP\", FloatType(), False), \n",
        "      StructField(\"VISB\", FloatType(), False), \n",
        "      StructField(\"WDSP\", FloatType(), False),  \n",
        "      StructField(\"MXSPD\", FloatType(), False),\n",
        "      StructField(\"GUST\", FloatType(), False), \n",
        "      StructField(\"MAX\", FloatType(), False),  \n",
        "      StructField(\"MIN\", FloatType(), False),  \n",
        "      StructField(\"PRCP\", FloatType(), False), \n",
        "      StructField(\"SNDP\", FloatType(), False), \n",
        "      StructField(\"FRSHTT\", IntegerType(), False)                                             \n",
        "                                ])\n",
        "\n",
        "                                 \n",
        "        # A reference to our csv-seperated-file\n",
        "csvCountryFile = \"/content/data/countrylist.csv\"\n",
        "csvStationFile = \"/content/data/stationlist.csv\"\n",
        "csvWeatherFile = \"/content/data/2019/*.gz\"\n",
        "\n",
        "#Inputs\n",
        "sdf_country = spark.read \\\n",
        "                .option('header', 'true') \\\n",
        "                .option('sep', \",\") \\\n",
        "                .option(\"ignoreLeadingWhiteSpace\", True) \\\n",
        "                .option(\"ignoreTrailingWhiteSpace\", True) \\\n",
        "                .schema(csvCountrySchema)\\\n",
        "                .csv(csvCountryFile)    \n",
        "\n",
        "\n",
        "sdf_station = spark.read \\\n",
        "                .option('header', 'true') \\\n",
        "                .option('sep', \",\") \\\n",
        "                .option(\"ignoreLeadingWhiteSpace\", True) \\\n",
        "                .option(\"ignoreTrailingWhiteSpace\", True) \\\n",
        "                .schema(csvStationSchema)\\\n",
        "                .csv(csvStationFile) \n",
        "\n",
        "\n",
        "sdf_wthr19 = spark.read \\\n",
        "                .option(\"header\", \"true\") \\\n",
        "                .schema(csvWeatherSchema)\\\n",
        "                .option(\"ignoreLeadingWhiteSpace\", True) \\\n",
        "                .option(\"ignoreTrailingWhiteSpace\", True) \\\n",
        "                .option('sep', \",\") \\\n",
        "                .csv(csvWeatherFile) \n",
        "\n",
        "sdf_wthrstn19 =     sdf_station.join(sdf_country, on = 'COUNTRY_ABBR')  \\\n",
        "                             .join(sdf_wthr19, on = 'STN_NO')          "
      ],
      "execution_count": 8,
      "outputs": []
    },
    {
      "cell_type": "code",
      "metadata": {
        "colab": {
          "base_uri": "https://localhost:8080/"
        },
        "id": "eL2W9g33ANFK",
        "outputId": "ffb99297-6837-4102-f7f4-a78c76af7152"
      },
      "source": [
        "sdf_wthrstn19.show()"
      ],
      "execution_count": 9,
      "outputs": [
        {
          "output_type": "stream",
          "text": [
            "+------+------------+------------+-----+--------+----+----+------+------+-----+----+-----+-----+----+----+----+-----+------+\n",
            "|STN_NO|COUNTRY_ABBR|COUNTRY_FULL| WBAN|YEARMODA|TEMP|DEWP|   SLP|   STP| VISB|WDSP|MXSPD| GUST| MAX| MIN|PRCP| SNDP|FRSHTT|\n",
            "+------+------------+------------+-----+--------+----+----+------+------+-----+----+-----+-----+----+----+----+-----+------+\n",
            "| 13840|          NO|      NORWAY|99999|20190101|38.6|24.8|9999.9|9999.9|999.9|11.7| 33.6| 44.1|null|null|null|999.9|     0|\n",
            "| 13840|          NO|      NORWAY|99999|20190102|30.5|16.6|9999.9|9999.9|999.9| 8.0| 23.7| 35.0|null|null|null|999.9|     0|\n",
            "| 13840|          NO|      NORWAY|99999|20190103|32.2|21.7|9999.9|9999.9|999.9| 3.5| 13.0|999.9|null|null|null|999.9|     0|\n",
            "| 13840|          NO|      NORWAY|99999|20190104|34.2|27.2|9999.9|9999.9|999.9| 2.6|  6.0|999.9|null|null|null|999.9|     0|\n",
            "| 13840|          NO|      NORWAY|99999|20190105|30.6|27.4|9999.9|9999.9| 15.5| 2.0|  6.4|999.9|null|null|null|999.9|100000|\n",
            "| 13840|          NO|      NORWAY|99999|20190106|26.6|25.1|9999.9|9999.9|  8.2| 0.7|  4.1|999.9|null|null|null|999.9|100000|\n",
            "| 13840|          NO|      NORWAY|99999|20190107|26.2|25.2|9999.9|9999.9|  2.7| 1.8|  7.0|999.9|null|null|null|999.9|101000|\n",
            "| 13840|          NO|      NORWAY|99999|20190108|32.3|26.6|9999.9|9999.9|  5.2|11.7| 19.4| 28.0|null|null|null|999.9| 11000|\n",
            "| 13840|          NO|      NORWAY|99999|20190109|30.2|19.7|9999.9|9999.9|999.9| 8.2| 19.4|999.9|null|null|null|999.9|     0|\n",
            "| 13840|          NO|      NORWAY|99999|20190110|22.9|19.7|9999.9|9999.9| 14.3| 2.5|  7.8|999.9|null|null|null|999.9|     0|\n",
            "| 13840|          NO|      NORWAY|99999|20190111|29.8|20.7|9999.9|9999.9|999.9| 3.3|  7.8|999.9|null|null|null|999.9|     0|\n",
            "| 13840|          NO|      NORWAY|99999|20190112|17.2|13.4|9999.9|9999.9|999.9| 1.6|  5.1|999.9|null|null|null|999.9|     0|\n",
            "| 13840|          NO|      NORWAY|99999|20190113|19.7|13.6|9999.9|9999.9|  5.6| 4.0| 21.4| 27.0|null|null|null|999.9|101000|\n",
            "| 13840|          NO|      NORWAY|99999|20190114|27.8|13.8|9999.9|9999.9| 11.5| 6.2| 19.8| 32.1|null|null|null|999.9| 11000|\n",
            "| 13840|          NO|      NORWAY|99999|20190115|21.5|14.7|9999.9|9999.9|  8.1| 3.4| 13.4|999.9|null|null|null|999.9|  1000|\n",
            "| 13840|          NO|      NORWAY|99999|20190116|18.1|15.7|9999.9|9999.9|  5.3| 2.4|  8.0|999.9|null|null|null|999.9|  1000|\n",
            "| 13840|          NO|      NORWAY|99999|20190117|15.7| 9.8|9999.9|9999.9|999.9| 4.1| 11.7|999.9|null|null|null|999.9|     0|\n",
            "| 13840|          NO|      NORWAY|99999|20190118|20.3|11.6|9999.9|9999.9|999.9| 3.3|  9.7|999.9|null|null|null|999.9|     0|\n",
            "| 13840|          NO|      NORWAY|99999|20190119|14.9|12.2|9999.9|9999.9| 11.3| 1.4|  9.7|999.9|null|null|null|999.9|101000|\n",
            "| 13840|          NO|      NORWAY|99999|20190120| 8.4| 5.5|9999.9|9999.9|  3.3| 0.7|  4.1|999.9|null|null|null|999.9|101000|\n",
            "+------+------------+------------+-----+--------+----+----+------+------+-----+----+-----+-----+----+----+----+-----+------+\n",
            "only showing top 20 rows\n",
            "\n"
          ],
          "name": "stdout"
        }
      ]
    },
    {
      "cell_type": "code",
      "metadata": {
        "id": "6CLGnE4BXyyb"
      },
      "source": [
        "sdf_wthrstn19.createOrReplaceTempView(\"wthr19\");"
      ],
      "execution_count": 10,
      "outputs": []
    },
    {
      "cell_type": "markdown",
      "metadata": {
        "id": "1ppi8SXAHJKa"
      },
      "source": [
        "Which Country had the hottest average temperature of the year "
      ]
    },
    {
      "cell_type": "code",
      "metadata": {
        "colab": {
          "base_uri": "https://localhost:8080/"
        },
        "id": "rJTHgj0rGmTu",
        "outputId": "2f2bacd1-3aa6-4b93-9f90-90481af9e18f"
      },
      "source": [
        "spark.sql('''SELECT  COUNTRY_FULL, AVG(TEMP) AS AVG_TEMP FROM wthr19 WHERE TEMP != 9999.9 GROUP BY COUNTRY_FULL ORDER BY AVG(TEMP) DESC LIMIT 1''').show(1)"
      ],
      "execution_count": 11,
      "outputs": [
        {
          "output_type": "stream",
          "text": [
            "+------------+-----------------+\n",
            "|COUNTRY_FULL|         AVG_TEMP|\n",
            "+------------+-----------------+\n",
            "|    DJIBOUTI|90.06114474836602|\n",
            "+------------+-----------------+\n",
            "\n"
          ],
          "name": "stdout"
        }
      ]
    },
    {
      "cell_type": "markdown",
      "metadata": {
        "id": "_Jijm7CPJo3L"
      },
      "source": [
        "Found this interesting : https://www.amazon.com/Welcome-Djibouti-survive-hottest-country/dp/1794559418\n"
      ]
    },
    {
      "cell_type": "markdown",
      "metadata": {
        "id": "f9J28Gp3J8yp"
      },
      "source": [
        "Q) Which country has the second highest average mean wind speed over the year ? "
      ]
    },
    {
      "cell_type": "code",
      "metadata": {
        "colab": {
          "base_uri": "https://localhost:8080/"
        },
        "id": "iOEVt74mHEpd",
        "outputId": "2bc2a986-869f-4048-b0a7-0a6bbaba5bdf"
      },
      "source": [
        "sdf_windspeed = spark.sql('''SELECT  COUNTRY_FULL, AVG(WDSP) AS AVG_TEMP FROM wthr19 WHERE WDSP != 9999.9 GROUP BY COUNTRY_FULL ORDER BY AVG(WDSP) DESC''') \n",
        "print(sdf_windspeed.collect()[1])"
      ],
      "execution_count": 14,
      "outputs": [
        {
          "output_type": "stream",
          "text": [
            "Row(COUNTRY_FULL='ARMENIA', AVG_TEMP=457.3659429499847)\n"
          ],
          "name": "stdout"
        }
      ]
    },
    {
      "cell_type": "markdown",
      "metadata": {
        "id": "LLem2b6iMDF3"
      },
      "source": [
        "Q)Which country had the most consecutive days of tornades  funnel cloud formations ? \n",
        "\n",
        "---\n",
        "\n"
      ]
    },
    {
      "cell_type": "code",
      "metadata": {
        "id": "VGfQQLEGCtJ2"
      },
      "source": [
        "w1 = Window.partitionBy(\"COUNTRY_FULL\").orderBy([\"COUNTRY_FULL\", \"YEARMODA\"])\n",
        "w2 = Window.partitionBy(\"DIFF\").orderBy(\"COUNTRY_FULL\")\n",
        "\n",
        "sdf_tornadoflag = spark.sql('''SELECT  COUNTRY_FULL,   YEARMODA , FRSHTT   , int(substring(string(FRSHTT),6,1)) AS `flag`\n",
        "             FROM wthr19  WHERE  char_length(string(FRSHTT)) = 6   ORDER BY COUNTRY_FULL, YEARMODA DESC\n",
        "                    ''')\n",
        "sdf_tornadoflag = sdf_tornadoflag.withColumn(\"PREVIOUS_DAY\", F.lag(sdf_tornadoflag.YEARMODA).over(w1)) \n",
        "sdf_tornadoflag = sdf_tornadoflag.withColumn(\"DIFF_DAY\", F.when(F.isnull(sdf_tornadoflag.YEARMODA - sdf_tornadoflag.PREVIOUS_DAY), 0) \\\n",
        "                                  .otherwise(sdf_tornadoflag.YEARMODA - sdf_tornadoflag.PREVIOUS_DAY))\\\n",
        "                                  \n",
        "\n",
        "sdf_tornadoflag.createOrReplaceTempView(\"tornadoflag\"); "
      ],
      "execution_count": 64,
      "outputs": []
    },
    {
      "cell_type": "code",
      "metadata": {
        "colab": {
          "base_uri": "https://localhost:8080/"
        },
        "id": "Y7efq6tsIhzJ",
        "outputId": "d030a002-e3ce-45ed-b854-360fcc5fc30a"
      },
      "source": [
        "spark.sql('''SELECT  * FROM tornadoflag WHERE flag =1  ORDER BY COUNTRY_FULL, YEARMODA''').show(50)"
      ],
      "execution_count": 68,
      "outputs": [
        {
          "output_type": "stream",
          "text": [
            "+-------------+--------+------+----+------------+--------+\n",
            "| COUNTRY_FULL|YEARMODA|FRSHTT|flag|PREVIOUS_DAY|DIFF_DAY|\n",
            "+-------------+--------+------+----+------------+--------+\n",
            "|      AUSTRIA|20191014|100001|   1|    20191014|       0|\n",
            "|      AUSTRIA|20191019|110001|   1|    20191019|       0|\n",
            "|  BAHAMAS THE|20190327|110001|   1|    20190319|       8|\n",
            "|       CANADA|20190616|110001|   1|    20190616|       0|\n",
            "|       CANADA|20190811|110001|   1|    20190810|       1|\n",
            "|       CANADA|20191020|100001|   1|    20191020|       0|\n",
            "|     COLOMBIA|20191205|110011|   1|    20191205|       0|\n",
            "|         CUBA|20190214|110001|   1|    20190213|       1|\n",
            "|         CUBA|20190807|110011|   1|    20190807|       0|\n",
            "|      GEORGIA|20191130|110001|   1|    20191129|       1|\n",
            "|        GHANA|20190322|100001|   1|    20190308|      14|\n",
            "|      ICELAND|20190128|101001|   1|    20190127|       1|\n",
            "|         IRAN|20191124|100001|   1|    20191124|       0|\n",
            "|        ITALY|20191201|110001|   1|    20191201|       0|\n",
            "|   MADAGASCAR|20190413|110001|   1|    20190412|       1|\n",
            "|        NEPAL|20190221|100001|   1|    20190220|       1|\n",
            "|       NORWAY|20190227|100001|   1|    20190227|       0|\n",
            "|       POLAND|20190106|101001|   1|    20190106|       0|\n",
            "|      ROMANIA|20190606|110011|   1|    20190606|       0|\n",
            "|       RUSSIA|20190703|100001|   1|    20190703|       0|\n",
            "|        SPAIN|20190910|110011|   1|    20190910|       0|\n",
            "|       TURKEY|20190201|110001|   1|    20190131|      70|\n",
            "|UNITED STATES|20190228|110001|   1|    20190228|       0|\n",
            "|UNITED STATES|20190430|110011|   1|    20190430|       0|\n",
            "|UNITED STATES|20190518|110011|   1|    20190518|       0|\n",
            "|UNITED STATES|20190521|110011|   1|    20190521|       0|\n",
            "|UNITED STATES|20190526|110011|   1|    20190526|       0|\n",
            "|UNITED STATES|20190710|110011|   1|    20190710|       0|\n",
            "|UNITED STATES|20191204|101001|   1|    20191204|       0|\n",
            "|UNITED STATES|20191209|101001|   1|    20191209|       0|\n",
            "|UNITED STATES|20191209|110011|   1|    20191209|       0|\n",
            "+-------------+--------+------+----+------------+--------+\n",
            "\n"
          ],
          "name": "stdout"
        }
      ]
    },
    {
      "cell_type": "code",
      "metadata": {
        "id": "F2rcqwgQMnps"
      },
      "source": [
        ""
      ],
      "execution_count": null,
      "outputs": []
    },
    {
      "cell_type": "code",
      "metadata": {
        "id": "Mrr2QV-FMn95"
      },
      "source": [
        ""
      ],
      "execution_count": null,
      "outputs": []
    },
    {
      "cell_type": "code",
      "metadata": {
        "id": "CA2FL-dHMoOa"
      },
      "source": [
        ""
      ],
      "execution_count": null,
      "outputs": []
    }
  ]
}